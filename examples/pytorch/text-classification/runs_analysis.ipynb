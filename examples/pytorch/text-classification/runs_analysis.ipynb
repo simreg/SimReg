{
 "cells": [
  {
   "cell_type": "code",
   "execution_count": 1,
   "id": "f9cd1a9c-914c-4aee-abd4-f7ce59527d1f",
   "metadata": {},
   "outputs": [],
   "source": [
    "import wandb\n",
    "import torch\n",
    "api = wandb.Api()"
   ]
  },
  {
   "cell_type": "code",
   "execution_count": 2,
   "id": "421830fa-ca80-4cc5-8fd5-36a878c5312c",
   "metadata": {},
   "outputs": [],
   "source": [
    "import re\n",
    "import os\n",
    "import matplotlib.pyplot as plt\n",
    "# import seaborn as sns\n",
    "# sns.set_theme()\n",
    "# sns.set_style('whitegrid')\n",
    "from pprint import pprint\n"
   ]
  },
  {
   "cell_type": "code",
   "execution_count": 3,
   "id": "8f540eea-9a22-49d0-a541-4b6df3782864",
   "metadata": {},
   "outputs": [],
   "source": [
    "def my_groupby(collection, extractor):\n",
    "    res = {}\n",
    "    for item in collection:\n",
    "        key = extractor(item)\n",
    "        if key not in res:\n",
    "            res[key] = []\n",
    "        res[key].append(item)\n",
    "    return res\n"
   ]
  },
  {
   "cell_type": "code",
   "execution_count": 4,
   "id": "c5734cc2-9e19-4209-81d2-48ba9c99862a",
   "metadata": {},
   "outputs": [],
   "source": [
    "fever_exps = api.runs('redaigbaria/fever_exps')"
   ]
  },
  {
   "cell_type": "code",
   "execution_count": 5,
   "id": "2dd30bcd-077e-4c27-97f6-bb1875b3e9c9",
   "metadata": {},
   "outputs": [],
   "source": [
    "# filtered_runs = fever_exps\n",
    "# filtered_runs = list(filter(lambda r: 'bert_UNB_ConfReg_32' == r.name, filtered_runs))\n",
    "# for r in filtered_runs:\n",
    "#     print(r.name)\n",
    "#     r.group = r.name\n",
    "#     r.update()\n",
    "# print(filtered_runs)\n"
   ]
  },
  {
   "cell_type": "code",
   "execution_count": 6,
   "id": "c94308aa-7767-4804-8472-0d7666bcb779",
   "metadata": {},
   "outputs": [],
   "source": [
    "project_base='/home/redaigbaria/research_project/examples/pytorch/text-classification/'\n",
    "runs = api.runs(\"redaigbaria/mnli_exps\")\n",
    "probing_runs = api.runs(\"redaigbaria/online-code\")"
   ]
  },
  {
   "cell_type": "code",
   "execution_count": 7,
   "id": "c0038551-cac5-40a1-882b-a2c2ca597bda",
   "metadata": {},
   "outputs": [],
   "source": [
    "# # Compute compression statstics\n",
    "\n",
    "# filtered_probing_runs = list(filter(lambda r: r.config['task_name'] == 'mnli-lex-class-sub', probing_runs))\n",
    "# grouped_probing_runs = my_groupby(filtered_probing_runs, lambda r: r.group)\n",
    "\n",
    "# for k in grouped_probing_runs:\n",
    "#     tmp_res = []\n",
    "#     try:\n",
    "#         for r in grouped_probing_runs[k]:\n",
    "#             tmp_res.append(r.summary['compression'])\n",
    "#         tmp_res = torch.tensor(tmp_res)\n",
    "#         print(f\"{k}: $ %2.2f \\pm %1.1f $\" % (tmp_res.mean(), tmp_res.std(unbiased=False)))\n",
    "#     except:\n",
    "#         print(f\"{k} failed\")\n"
   ]
  },
  {
   "cell_type": "code",
   "execution_count": 8,
   "id": "7cc31a78-d7ef-41ba-89c2-a25b298486b9",
   "metadata": {},
   "outputs": [],
   "source": [
    "# for run in runs:\n",
    "#     # and re.match(\"tinybert_\\d\", run.name)\n",
    "#     if run.group != run.name:\n",
    "#         # if re.match(\"bert_\\d_claim_only\", run.name):\n",
    "#         #     run.group = \"bert_claim_only\"\n",
    "#         #     run.update()\n",
    "#         print(f\"{run}, {run.name}, {run.group}\")\n",
    "#         # run.group = run.name\n",
    "#         # run.update()\n",
    "#         # run.group = \"tinybert\"\n",
    "        \n",
    "#         # run.update()"
   ]
  },
  {
   "cell_type": "code",
   "execution_count": 9,
   "id": "5109499e-7fb8-4af6-b8b4-be0a990812bc",
   "metadata": {},
   "outputs": [],
   "source": [
    "filtered_runs = runs\n",
    "\n",
    "# filtered_runs = list(filter(lambda r: 'enforce_similarity' in r.config and r.config['enforce_similarity'], filtered_runs))\n",
    "filtered_runs = list(filter(lambda r: r.group is not None and r.state == 'finished', filtered_runs))\n",
    "filtered_runs = list(filter(lambda r: 'deberta' not in r.group, filtered_runs))\n",
    "# filtered_runs = list(filter(lambda r: os.path.isdir(os.path.join(project_base, r.config['output_dir'])), filtered_runs))\n",
    "filtered_runs = list(filter(lambda r: 'lexical_bias' in r.tags, filtered_runs))\n",
    "# filtered_runs = list(filter(lambda r: r.config['weak_model_path'] != 'None', filtered_runs))\n",
    "# filtered_runs = list(filter(lambda r: r.name == \"bert_EDBXE_STOB_lexicalDeBias_abs_cos_cor_9M-10M-11M_9-10-11_lambda_1_100_64_sim\", filtered_runs))"
   ]
  },
  {
   "cell_type": "code",
   "execution_count": 10,
   "id": "282d5fba-3bfd-4fa2-a392-1b13d73b91d3",
   "metadata": {},
   "outputs": [],
   "source": [
    "grouped_runs = my_groupby(filtered_runs, lambda r: r.group)\n",
    "probing_grouped_runs = my_groupby(probing_runs, lambda r: r.group)"
   ]
  },
  {
   "cell_type": "code",
   "execution_count": null,
   "id": "44f1e9ce-6256-4148-a0af-7232a987b94d",
   "metadata": {},
   "outputs": [],
   "source": [
    "failed_runs = set()\n",
    "compression_hist = {}\n",
    "proper_formatting = {\n",
    "    # sim\n",
    "    True: {\n",
    "        # grad\n",
    "        True: [],\n",
    "        False: []\n",
    "    },\n",
    "    False: {\n",
    "        # grad\n",
    "        True: [],\n",
    "        False: []\n",
    "    }\n",
    "}\n",
    "for k, current_group in grouped_runs.items():\n",
    "    if k == \"bert_LexicalModel_lexicalDeBias_POE_64\":\n",
    "        overlap_key = \"mnli-lex-class/bert_64_POE\"\n",
    "    else:\n",
    "        overlap_key = f\"mnli-lex-class/{k}\"\n",
    "    sub_key = f\"mnli-lex-class-sub/{k}\"\n",
    "    if overlap_key not in probing_grouped_runs.keys():\n",
    "        print(f\"{k} failed2!!!!!!!!!!!!!!!!!!!!!!!!!!!!!!!!!!!\")\n",
    "        failed_runs.add(k)\n",
    "        continue\n",
    "    # if sub_key not in probing_grouped_runs.keys():\n",
    "    #     failed_runs.add(k)\n",
    "    #     print(f\"{k} failed1!!!!!!!!!!!!!!!!!!!!!!!!!!!!!!!!!!!\")\n",
    "    #     continue\n",
    "    sim = current_group[0].config['enforce_similarity']\n",
    "    GReg = current_group[0].config['regularize_grads']\n",
    "    sim_arrow = \"$\\\\uparrow$\" if sim else \"$\\downarrow$\"\n",
    "    GReg_letter = \"$\\\\nabla$ \" if GReg else \"\"\n",
    "    # compute HANS-non_ent\n",
    "    lex_res = []\n",
    "    sub_res = []\n",
    "    for r in current_group:\n",
    "        hans_path = f\"{r.config['output_dir']}/hans/evaluate_heuristic_output.txt\"\n",
    "        if os.path.isfile(hans_path):\n",
    "            run_hans_file = open(hans_path, \"r\")\n",
    "            run_hans = run_hans_file.readlines()\n",
    "            lex_res.append(float(run_hans[6].split(\":\")[1].strip()))\n",
    "            sub_res.append(float(run_hans[7].split(\":\")[1].strip()))\n",
    "            run_hans_file.close()\n",
    "        # res.append(r.summary['eval/HANS_non_ent_accuracy'])\n",
    "    lex_res = torch.tensor(lex_res) * 100\n",
    "    sub_res = torch.tensor(sub_res) * 100\n",
    "    lex_mean, lex_std = lex_res.mean().item(), lex_res.std().item()\n",
    "    sub_mean, sub_std = sub_res.mean().item(), sub_res.std().item()\n",
    "    # lex-compression\n",
    "    res = []\n",
    "    for r in probing_grouped_runs[overlap_key]:\n",
    "        res.append(r.summary['compression'])\n",
    "    res = torch.tensor(res)\n",
    "    lex_compression_mean, lex_compression_std = res.mean().item(), res.std().item()\n",
    "    # sub-compression\n",
    "    res = []\n",
    "    if sub_key not in probing_grouped_runs.keys():\n",
    "        sub_compression_mean, sub_compression_std = -1, -1\n",
    "    else:\n",
    "        for r in probing_grouped_runs[sub_key]:\n",
    "            try:\n",
    "                res.append(r.summary['compression'])\n",
    "            except Exception as e:\n",
    "                print(e)\n",
    "        res = torch.tensor(res).float()\n",
    "        sub_compression_mean, sub_compression_std = res.mean().item(), res.std().item()\n",
    "    \n",
    "    compression_hist[k] = (sub_mean, sub_compression_mean, sub_compression_std, lex_compression_mean, lex_compression_std, lex_mean)\n",
    "    clean_name = k.replace(\"_GReg\", \"\").replace(\"_sim\", \"\").replace(\"_STOB\", \"\").replace(\"bert_\", \"\").replace(\"_lexicalDeBias\", \"\").replace(\"lexicalDeBias\", \"\").replace(\"_64\", \"\").replace(\"_lambda\", \"\").replace(\"EXDBE_\", \"\").replace(\"EDBXE_\", \"\").replace('_', '-')\n",
    "    clean_name = re.sub('-(\\d)-(\\d+)$', ' $(lambda=\\\\2)$', clean_name).replace(\"lambda\", \"\\\\lambda\")\n",
    "    row = f\"{GReg_letter}\\\\small{{{clean_name}}} {sim_arrow} & $ %.1f \\\\pm %.1f $ & $ %2.2f $ & $ %.2f \\\\pm %.1f $ & $ %.2f $ \\\\\\\\\" % (lex_compression_mean, lex_compression_std, lex_mean, sub_compression_mean, sub_compression_std, sub_mean)\n",
    "    proper_formatting[sim][GReg].append(row)\n",
    "\n",
    "for g_sim in proper_formatting.values():\n",
    "    for grad_g in g_sim.values():\n",
    "        for row in grad_g:\n",
    "            print(row)\n"
   ]
  },
  {
   "cell_type": "code",
   "execution_count": 12,
   "id": "441eef80-f628-457d-91b3-8e5ecc6a1eba",
   "metadata": {},
   "outputs": [
    {
     "name": "stdout",
     "output_type": "stream",
     "text": [
      "Overlap\n"
     ]
    },
    {
     "data": {
      "text/plain": [
       "<Figure size 432x288 with 0 Axes>"
      ]
     },
     "metadata": {},
     "output_type": "display_data"
    },
    {
     "ename": "RuntimeError",
     "evalue": "Failed to process string with tex because latex could not be found",
     "output_type": "error",
     "traceback": [
      "\u001b[0;31m---------------------------------------------------------------------------\u001b[0m",
      "\u001b[0;31mFileNotFoundError\u001b[0m                         Traceback (most recent call last)",
      "File \u001b[0;32m~/miniconda3/envs/research_project/lib/python3.9/site-packages/matplotlib/texmanager.py:252\u001b[0m, in \u001b[0;36mTexManager._run_checked_subprocess\u001b[0;34m(self, command, tex, cwd)\u001b[0m\n\u001b[1;32m    251\u001b[0m \u001b[38;5;28;01mtry\u001b[39;00m:\n\u001b[0;32m--> 252\u001b[0m     report \u001b[38;5;241m=\u001b[39m \u001b[43msubprocess\u001b[49m\u001b[38;5;241;43m.\u001b[39;49m\u001b[43mcheck_output\u001b[49m\u001b[43m(\u001b[49m\n\u001b[1;32m    253\u001b[0m \u001b[43m        \u001b[49m\u001b[43mcommand\u001b[49m\u001b[43m,\u001b[49m\u001b[43m \u001b[49m\u001b[43mcwd\u001b[49m\u001b[38;5;241;43m=\u001b[39;49m\u001b[43mcwd\u001b[49m\u001b[43m \u001b[49m\u001b[38;5;28;43;01mif\u001b[39;49;00m\u001b[43m \u001b[49m\u001b[43mcwd\u001b[49m\u001b[43m \u001b[49m\u001b[38;5;129;43;01mis\u001b[39;49;00m\u001b[43m \u001b[49m\u001b[38;5;129;43;01mnot\u001b[39;49;00m\u001b[43m \u001b[49m\u001b[38;5;28;43;01mNone\u001b[39;49;00m\u001b[43m \u001b[49m\u001b[38;5;28;43;01melse\u001b[39;49;00m\u001b[43m \u001b[49m\u001b[38;5;28;43mself\u001b[39;49m\u001b[38;5;241;43m.\u001b[39;49m\u001b[43mtexcache\u001b[49m\u001b[43m,\u001b[49m\n\u001b[1;32m    254\u001b[0m \u001b[43m        \u001b[49m\u001b[43mstderr\u001b[49m\u001b[38;5;241;43m=\u001b[39;49m\u001b[43msubprocess\u001b[49m\u001b[38;5;241;43m.\u001b[39;49m\u001b[43mSTDOUT\u001b[49m\u001b[43m)\u001b[49m\n\u001b[1;32m    255\u001b[0m \u001b[38;5;28;01mexcept\u001b[39;00m \u001b[38;5;167;01mFileNotFoundError\u001b[39;00m \u001b[38;5;28;01mas\u001b[39;00m exc:\n",
      "File \u001b[0;32m~/miniconda3/envs/research_project/lib/python3.9/subprocess.py:424\u001b[0m, in \u001b[0;36mcheck_output\u001b[0;34m(timeout, *popenargs, **kwargs)\u001b[0m\n\u001b[1;32m    422\u001b[0m     kwargs[\u001b[38;5;124m'\u001b[39m\u001b[38;5;124minput\u001b[39m\u001b[38;5;124m'\u001b[39m] \u001b[38;5;241m=\u001b[39m empty\n\u001b[0;32m--> 424\u001b[0m \u001b[38;5;28;01mreturn\u001b[39;00m \u001b[43mrun\u001b[49m\u001b[43m(\u001b[49m\u001b[38;5;241;43m*\u001b[39;49m\u001b[43mpopenargs\u001b[49m\u001b[43m,\u001b[49m\u001b[43m \u001b[49m\u001b[43mstdout\u001b[49m\u001b[38;5;241;43m=\u001b[39;49m\u001b[43mPIPE\u001b[49m\u001b[43m,\u001b[49m\u001b[43m \u001b[49m\u001b[43mtimeout\u001b[49m\u001b[38;5;241;43m=\u001b[39;49m\u001b[43mtimeout\u001b[49m\u001b[43m,\u001b[49m\u001b[43m \u001b[49m\u001b[43mcheck\u001b[49m\u001b[38;5;241;43m=\u001b[39;49m\u001b[38;5;28;43;01mTrue\u001b[39;49;00m\u001b[43m,\u001b[49m\n\u001b[1;32m    425\u001b[0m \u001b[43m           \u001b[49m\u001b[38;5;241;43m*\u001b[39;49m\u001b[38;5;241;43m*\u001b[39;49m\u001b[43mkwargs\u001b[49m\u001b[43m)\u001b[49m\u001b[38;5;241m.\u001b[39mstdout\n",
      "File \u001b[0;32m~/miniconda3/envs/research_project/lib/python3.9/subprocess.py:505\u001b[0m, in \u001b[0;36mrun\u001b[0;34m(input, capture_output, timeout, check, *popenargs, **kwargs)\u001b[0m\n\u001b[1;32m    503\u001b[0m     kwargs[\u001b[38;5;124m'\u001b[39m\u001b[38;5;124mstderr\u001b[39m\u001b[38;5;124m'\u001b[39m] \u001b[38;5;241m=\u001b[39m PIPE\n\u001b[0;32m--> 505\u001b[0m \u001b[38;5;28;01mwith\u001b[39;00m \u001b[43mPopen\u001b[49m\u001b[43m(\u001b[49m\u001b[38;5;241;43m*\u001b[39;49m\u001b[43mpopenargs\u001b[49m\u001b[43m,\u001b[49m\u001b[43m \u001b[49m\u001b[38;5;241;43m*\u001b[39;49m\u001b[38;5;241;43m*\u001b[39;49m\u001b[43mkwargs\u001b[49m\u001b[43m)\u001b[49m \u001b[38;5;28;01mas\u001b[39;00m process:\n\u001b[1;32m    506\u001b[0m     \u001b[38;5;28;01mtry\u001b[39;00m:\n",
      "File \u001b[0;32m~/miniconda3/envs/research_project/lib/python3.9/subprocess.py:951\u001b[0m, in \u001b[0;36mPopen.__init__\u001b[0;34m(self, args, bufsize, executable, stdin, stdout, stderr, preexec_fn, close_fds, shell, cwd, env, universal_newlines, startupinfo, creationflags, restore_signals, start_new_session, pass_fds, user, group, extra_groups, encoding, errors, text, umask)\u001b[0m\n\u001b[1;32m    948\u001b[0m             \u001b[38;5;28mself\u001b[39m\u001b[38;5;241m.\u001b[39mstderr \u001b[38;5;241m=\u001b[39m io\u001b[38;5;241m.\u001b[39mTextIOWrapper(\u001b[38;5;28mself\u001b[39m\u001b[38;5;241m.\u001b[39mstderr,\n\u001b[1;32m    949\u001b[0m                     encoding\u001b[38;5;241m=\u001b[39mencoding, errors\u001b[38;5;241m=\u001b[39merrors)\n\u001b[0;32m--> 951\u001b[0m     \u001b[38;5;28;43mself\u001b[39;49m\u001b[38;5;241;43m.\u001b[39;49m\u001b[43m_execute_child\u001b[49m\u001b[43m(\u001b[49m\u001b[43margs\u001b[49m\u001b[43m,\u001b[49m\u001b[43m \u001b[49m\u001b[43mexecutable\u001b[49m\u001b[43m,\u001b[49m\u001b[43m \u001b[49m\u001b[43mpreexec_fn\u001b[49m\u001b[43m,\u001b[49m\u001b[43m \u001b[49m\u001b[43mclose_fds\u001b[49m\u001b[43m,\u001b[49m\n\u001b[1;32m    952\u001b[0m \u001b[43m                        \u001b[49m\u001b[43mpass_fds\u001b[49m\u001b[43m,\u001b[49m\u001b[43m \u001b[49m\u001b[43mcwd\u001b[49m\u001b[43m,\u001b[49m\u001b[43m \u001b[49m\u001b[43menv\u001b[49m\u001b[43m,\u001b[49m\n\u001b[1;32m    953\u001b[0m \u001b[43m                        \u001b[49m\u001b[43mstartupinfo\u001b[49m\u001b[43m,\u001b[49m\u001b[43m \u001b[49m\u001b[43mcreationflags\u001b[49m\u001b[43m,\u001b[49m\u001b[43m \u001b[49m\u001b[43mshell\u001b[49m\u001b[43m,\u001b[49m\n\u001b[1;32m    954\u001b[0m \u001b[43m                        \u001b[49m\u001b[43mp2cread\u001b[49m\u001b[43m,\u001b[49m\u001b[43m \u001b[49m\u001b[43mp2cwrite\u001b[49m\u001b[43m,\u001b[49m\n\u001b[1;32m    955\u001b[0m \u001b[43m                        \u001b[49m\u001b[43mc2pread\u001b[49m\u001b[43m,\u001b[49m\u001b[43m \u001b[49m\u001b[43mc2pwrite\u001b[49m\u001b[43m,\u001b[49m\n\u001b[1;32m    956\u001b[0m \u001b[43m                        \u001b[49m\u001b[43merrread\u001b[49m\u001b[43m,\u001b[49m\u001b[43m \u001b[49m\u001b[43merrwrite\u001b[49m\u001b[43m,\u001b[49m\n\u001b[1;32m    957\u001b[0m \u001b[43m                        \u001b[49m\u001b[43mrestore_signals\u001b[49m\u001b[43m,\u001b[49m\n\u001b[1;32m    958\u001b[0m \u001b[43m                        \u001b[49m\u001b[43mgid\u001b[49m\u001b[43m,\u001b[49m\u001b[43m \u001b[49m\u001b[43mgids\u001b[49m\u001b[43m,\u001b[49m\u001b[43m \u001b[49m\u001b[43muid\u001b[49m\u001b[43m,\u001b[49m\u001b[43m \u001b[49m\u001b[43mumask\u001b[49m\u001b[43m,\u001b[49m\n\u001b[1;32m    959\u001b[0m \u001b[43m                        \u001b[49m\u001b[43mstart_new_session\u001b[49m\u001b[43m)\u001b[49m\n\u001b[1;32m    960\u001b[0m \u001b[38;5;28;01mexcept\u001b[39;00m:\n\u001b[1;32m    961\u001b[0m     \u001b[38;5;66;03m# Cleanup if the child failed starting.\u001b[39;00m\n",
      "File \u001b[0;32m~/miniconda3/envs/research_project/lib/python3.9/subprocess.py:1821\u001b[0m, in \u001b[0;36mPopen._execute_child\u001b[0;34m(self, args, executable, preexec_fn, close_fds, pass_fds, cwd, env, startupinfo, creationflags, shell, p2cread, p2cwrite, c2pread, c2pwrite, errread, errwrite, restore_signals, gid, gids, uid, umask, start_new_session)\u001b[0m\n\u001b[1;32m   1820\u001b[0m         err_msg \u001b[38;5;241m=\u001b[39m os\u001b[38;5;241m.\u001b[39mstrerror(errno_num)\n\u001b[0;32m-> 1821\u001b[0m     \u001b[38;5;28;01mraise\u001b[39;00m child_exception_type(errno_num, err_msg, err_filename)\n\u001b[1;32m   1822\u001b[0m \u001b[38;5;28;01mraise\u001b[39;00m child_exception_type(err_msg)\n",
      "\u001b[0;31mFileNotFoundError\u001b[0m: [Errno 2] No such file or directory: 'latex'",
      "\nThe above exception was the direct cause of the following exception:\n",
      "\u001b[0;31mRuntimeError\u001b[0m                              Traceback (most recent call last)",
      "File \u001b[0;32m~/miniconda3/envs/research_project/lib/python3.9/site-packages/IPython/core/formatters.py:339\u001b[0m, in \u001b[0;36mBaseFormatter.__call__\u001b[0;34m(self, obj)\u001b[0m\n\u001b[1;32m    337\u001b[0m     \u001b[38;5;28;01mpass\u001b[39;00m\n\u001b[1;32m    338\u001b[0m \u001b[38;5;28;01melse\u001b[39;00m:\n\u001b[0;32m--> 339\u001b[0m     \u001b[38;5;28;01mreturn\u001b[39;00m \u001b[43mprinter\u001b[49m\u001b[43m(\u001b[49m\u001b[43mobj\u001b[49m\u001b[43m)\u001b[49m\n\u001b[1;32m    340\u001b[0m \u001b[38;5;66;03m# Finally look for special method names\u001b[39;00m\n\u001b[1;32m    341\u001b[0m method \u001b[38;5;241m=\u001b[39m get_real_method(obj, \u001b[38;5;28mself\u001b[39m\u001b[38;5;241m.\u001b[39mprint_method)\n",
      "File \u001b[0;32m~/miniconda3/envs/research_project/lib/python3.9/site-packages/IPython/core/pylabtools.py:151\u001b[0m, in \u001b[0;36mprint_figure\u001b[0;34m(fig, fmt, bbox_inches, base64, **kwargs)\u001b[0m\n\u001b[1;32m    148\u001b[0m     \u001b[38;5;28;01mfrom\u001b[39;00m \u001b[38;5;21;01mmatplotlib\u001b[39;00m\u001b[38;5;21;01m.\u001b[39;00m\u001b[38;5;21;01mbackend_bases\u001b[39;00m \u001b[38;5;28;01mimport\u001b[39;00m FigureCanvasBase\n\u001b[1;32m    149\u001b[0m     FigureCanvasBase(fig)\n\u001b[0;32m--> 151\u001b[0m \u001b[43mfig\u001b[49m\u001b[38;5;241;43m.\u001b[39;49m\u001b[43mcanvas\u001b[49m\u001b[38;5;241;43m.\u001b[39;49m\u001b[43mprint_figure\u001b[49m\u001b[43m(\u001b[49m\u001b[43mbytes_io\u001b[49m\u001b[43m,\u001b[49m\u001b[43m \u001b[49m\u001b[38;5;241;43m*\u001b[39;49m\u001b[38;5;241;43m*\u001b[39;49m\u001b[43mkw\u001b[49m\u001b[43m)\u001b[49m\n\u001b[1;32m    152\u001b[0m data \u001b[38;5;241m=\u001b[39m bytes_io\u001b[38;5;241m.\u001b[39mgetvalue()\n\u001b[1;32m    153\u001b[0m \u001b[38;5;28;01mif\u001b[39;00m fmt \u001b[38;5;241m==\u001b[39m \u001b[38;5;124m'\u001b[39m\u001b[38;5;124msvg\u001b[39m\u001b[38;5;124m'\u001b[39m:\n",
      "File \u001b[0;32m~/miniconda3/envs/research_project/lib/python3.9/site-packages/matplotlib/backend_bases.py:2230\u001b[0m, in \u001b[0;36mFigureCanvasBase.print_figure\u001b[0;34m(self, filename, dpi, facecolor, edgecolor, orientation, format, bbox_inches, pad_inches, bbox_extra_artists, backend, **kwargs)\u001b[0m\n\u001b[1;32m   2226\u001b[0m     ctx \u001b[38;5;241m=\u001b[39m (renderer\u001b[38;5;241m.\u001b[39m_draw_disabled()\n\u001b[1;32m   2227\u001b[0m            \u001b[38;5;28;01mif\u001b[39;00m \u001b[38;5;28mhasattr\u001b[39m(renderer, \u001b[38;5;124m'\u001b[39m\u001b[38;5;124m_draw_disabled\u001b[39m\u001b[38;5;124m'\u001b[39m)\n\u001b[1;32m   2228\u001b[0m            \u001b[38;5;28;01melse\u001b[39;00m suppress())\n\u001b[1;32m   2229\u001b[0m     \u001b[38;5;28;01mwith\u001b[39;00m ctx:\n\u001b[0;32m-> 2230\u001b[0m         \u001b[38;5;28;43mself\u001b[39;49m\u001b[38;5;241;43m.\u001b[39;49m\u001b[43mfigure\u001b[49m\u001b[38;5;241;43m.\u001b[39;49m\u001b[43mdraw\u001b[49m\u001b[43m(\u001b[49m\u001b[43mrenderer\u001b[49m\u001b[43m)\u001b[49m\n\u001b[1;32m   2232\u001b[0m \u001b[38;5;28;01mif\u001b[39;00m bbox_inches:\n\u001b[1;32m   2233\u001b[0m     \u001b[38;5;28;01mif\u001b[39;00m bbox_inches \u001b[38;5;241m==\u001b[39m \u001b[38;5;124m\"\u001b[39m\u001b[38;5;124mtight\u001b[39m\u001b[38;5;124m\"\u001b[39m:\n",
      "File \u001b[0;32m~/miniconda3/envs/research_project/lib/python3.9/site-packages/matplotlib/artist.py:74\u001b[0m, in \u001b[0;36m_finalize_rasterization.<locals>.draw_wrapper\u001b[0;34m(artist, renderer, *args, **kwargs)\u001b[0m\n\u001b[1;32m     72\u001b[0m \u001b[38;5;129m@wraps\u001b[39m(draw)\n\u001b[1;32m     73\u001b[0m \u001b[38;5;28;01mdef\u001b[39;00m \u001b[38;5;21mdraw_wrapper\u001b[39m(artist, renderer, \u001b[38;5;241m*\u001b[39margs, \u001b[38;5;241m*\u001b[39m\u001b[38;5;241m*\u001b[39mkwargs):\n\u001b[0;32m---> 74\u001b[0m     result \u001b[38;5;241m=\u001b[39m \u001b[43mdraw\u001b[49m\u001b[43m(\u001b[49m\u001b[43martist\u001b[49m\u001b[43m,\u001b[49m\u001b[43m \u001b[49m\u001b[43mrenderer\u001b[49m\u001b[43m,\u001b[49m\u001b[43m \u001b[49m\u001b[38;5;241;43m*\u001b[39;49m\u001b[43margs\u001b[49m\u001b[43m,\u001b[49m\u001b[43m \u001b[49m\u001b[38;5;241;43m*\u001b[39;49m\u001b[38;5;241;43m*\u001b[39;49m\u001b[43mkwargs\u001b[49m\u001b[43m)\u001b[49m\n\u001b[1;32m     75\u001b[0m     \u001b[38;5;28;01mif\u001b[39;00m renderer\u001b[38;5;241m.\u001b[39m_rasterizing:\n\u001b[1;32m     76\u001b[0m         renderer\u001b[38;5;241m.\u001b[39mstop_rasterizing()\n",
      "File \u001b[0;32m~/miniconda3/envs/research_project/lib/python3.9/site-packages/matplotlib/artist.py:51\u001b[0m, in \u001b[0;36mallow_rasterization.<locals>.draw_wrapper\u001b[0;34m(artist, renderer, *args, **kwargs)\u001b[0m\n\u001b[1;32m     48\u001b[0m     \u001b[38;5;28;01mif\u001b[39;00m artist\u001b[38;5;241m.\u001b[39mget_agg_filter() \u001b[38;5;129;01mis\u001b[39;00m \u001b[38;5;129;01mnot\u001b[39;00m \u001b[38;5;28;01mNone\u001b[39;00m:\n\u001b[1;32m     49\u001b[0m         renderer\u001b[38;5;241m.\u001b[39mstart_filter()\n\u001b[0;32m---> 51\u001b[0m     \u001b[38;5;28;01mreturn\u001b[39;00m \u001b[43mdraw\u001b[49m\u001b[43m(\u001b[49m\u001b[43martist\u001b[49m\u001b[43m,\u001b[49m\u001b[43m \u001b[49m\u001b[43mrenderer\u001b[49m\u001b[43m,\u001b[49m\u001b[43m \u001b[49m\u001b[38;5;241;43m*\u001b[39;49m\u001b[43margs\u001b[49m\u001b[43m,\u001b[49m\u001b[43m \u001b[49m\u001b[38;5;241;43m*\u001b[39;49m\u001b[38;5;241;43m*\u001b[39;49m\u001b[43mkwargs\u001b[49m\u001b[43m)\u001b[49m\n\u001b[1;32m     52\u001b[0m \u001b[38;5;28;01mfinally\u001b[39;00m:\n\u001b[1;32m     53\u001b[0m     \u001b[38;5;28;01mif\u001b[39;00m artist\u001b[38;5;241m.\u001b[39mget_agg_filter() \u001b[38;5;129;01mis\u001b[39;00m \u001b[38;5;129;01mnot\u001b[39;00m \u001b[38;5;28;01mNone\u001b[39;00m:\n",
      "File \u001b[0;32m~/miniconda3/envs/research_project/lib/python3.9/site-packages/matplotlib/figure.py:2781\u001b[0m, in \u001b[0;36mFigure.draw\u001b[0;34m(self, renderer)\u001b[0m\n\u001b[1;32m   2779\u001b[0m renderer\u001b[38;5;241m.\u001b[39mopen_group(\u001b[38;5;124m'\u001b[39m\u001b[38;5;124mfigure\u001b[39m\u001b[38;5;124m'\u001b[39m, gid\u001b[38;5;241m=\u001b[39m\u001b[38;5;28mself\u001b[39m\u001b[38;5;241m.\u001b[39mget_gid())\n\u001b[1;32m   2780\u001b[0m \u001b[38;5;28;01mif\u001b[39;00m \u001b[38;5;28mself\u001b[39m\u001b[38;5;241m.\u001b[39mget_constrained_layout() \u001b[38;5;129;01mand\u001b[39;00m \u001b[38;5;28mself\u001b[39m\u001b[38;5;241m.\u001b[39maxes:\n\u001b[0;32m-> 2781\u001b[0m     \u001b[38;5;28;43mself\u001b[39;49m\u001b[38;5;241;43m.\u001b[39;49m\u001b[43mexecute_constrained_layout\u001b[49m\u001b[43m(\u001b[49m\u001b[43mrenderer\u001b[49m\u001b[43m)\u001b[49m\n\u001b[1;32m   2782\u001b[0m \u001b[38;5;28;01mif\u001b[39;00m \u001b[38;5;28mself\u001b[39m\u001b[38;5;241m.\u001b[39mget_tight_layout() \u001b[38;5;129;01mand\u001b[39;00m \u001b[38;5;28mself\u001b[39m\u001b[38;5;241m.\u001b[39maxes:\n\u001b[1;32m   2783\u001b[0m     \u001b[38;5;28;01mtry\u001b[39;00m:\n",
      "File \u001b[0;32m~/miniconda3/envs/research_project/lib/python3.9/site-packages/matplotlib/figure.py:3122\u001b[0m, in \u001b[0;36mFigure.execute_constrained_layout\u001b[0;34m(self, renderer)\u001b[0m\n\u001b[1;32m   3120\u001b[0m \u001b[38;5;28;01mif\u001b[39;00m renderer \u001b[38;5;129;01mis\u001b[39;00m \u001b[38;5;28;01mNone\u001b[39;00m:\n\u001b[1;32m   3121\u001b[0m     renderer \u001b[38;5;241m=\u001b[39m get_renderer(fig)\n\u001b[0;32m-> 3122\u001b[0m \u001b[43mdo_constrained_layout\u001b[49m\u001b[43m(\u001b[49m\u001b[43mfig\u001b[49m\u001b[43m,\u001b[49m\u001b[43m \u001b[49m\u001b[43mrenderer\u001b[49m\u001b[43m,\u001b[49m\u001b[43m \u001b[49m\u001b[43mh_pad\u001b[49m\u001b[43m,\u001b[49m\u001b[43m \u001b[49m\u001b[43mw_pad\u001b[49m\u001b[43m,\u001b[49m\u001b[43m \u001b[49m\u001b[43mhspace\u001b[49m\u001b[43m,\u001b[49m\u001b[43m \u001b[49m\u001b[43mwspace\u001b[49m\u001b[43m)\u001b[49m\n",
      "File \u001b[0;32m~/miniconda3/envs/research_project/lib/python3.9/site-packages/matplotlib/_constrained_layout.py:109\u001b[0m, in \u001b[0;36mdo_constrained_layout\u001b[0;34m(fig, renderer, h_pad, w_pad, hspace, wspace)\u001b[0m\n\u001b[1;32m     97\u001b[0m     _api\u001b[38;5;241m.\u001b[39mwarn_external(\u001b[38;5;124m'\u001b[39m\u001b[38;5;124mThere are no gridspecs with layoutgrids. \u001b[39m\u001b[38;5;124m'\u001b[39m\n\u001b[1;32m     98\u001b[0m                        \u001b[38;5;124m'\u001b[39m\u001b[38;5;124mPossibly did not call parent GridSpec with the\u001b[39m\u001b[38;5;124m'\u001b[39m\n\u001b[1;32m     99\u001b[0m                        \u001b[38;5;124m'\u001b[39m\u001b[38;5;124m \u001b[39m\u001b[38;5;124m\"\u001b[39m\u001b[38;5;124mfigure\u001b[39m\u001b[38;5;124m\"\u001b[39m\u001b[38;5;124m keyword\u001b[39m\u001b[38;5;124m'\u001b[39m)\n\u001b[1;32m    101\u001b[0m \u001b[38;5;28;01mfor\u001b[39;00m _ \u001b[38;5;129;01min\u001b[39;00m \u001b[38;5;28mrange\u001b[39m(\u001b[38;5;241m2\u001b[39m):\n\u001b[1;32m    102\u001b[0m     \u001b[38;5;66;03m# do the algorithm twice.  This has to be done because decorations\u001b[39;00m\n\u001b[1;32m    103\u001b[0m     \u001b[38;5;66;03m# change size after the first re-position (i.e. x/yticklabels get\u001b[39;00m\n\u001b[0;32m   (...)\u001b[0m\n\u001b[1;32m    107\u001b[0m     \u001b[38;5;66;03m# make margins for all the axes and subfigures in the\u001b[39;00m\n\u001b[1;32m    108\u001b[0m     \u001b[38;5;66;03m# figure.  Add margins for colorbars...\u001b[39;00m\n\u001b[0;32m--> 109\u001b[0m     \u001b[43m_make_layout_margins\u001b[49m\u001b[43m(\u001b[49m\u001b[43mfig\u001b[49m\u001b[43m,\u001b[49m\u001b[43m \u001b[49m\u001b[43mrenderer\u001b[49m\u001b[43m,\u001b[49m\u001b[43m \u001b[49m\u001b[43mh_pad\u001b[49m\u001b[38;5;241;43m=\u001b[39;49m\u001b[43mh_pad\u001b[49m\u001b[43m,\u001b[49m\u001b[43m \u001b[49m\u001b[43mw_pad\u001b[49m\u001b[38;5;241;43m=\u001b[39;49m\u001b[43mw_pad\u001b[49m\u001b[43m,\u001b[49m\n\u001b[1;32m    110\u001b[0m \u001b[43m                         \u001b[49m\u001b[43mhspace\u001b[49m\u001b[38;5;241;43m=\u001b[39;49m\u001b[43mhspace\u001b[49m\u001b[43m,\u001b[49m\u001b[43m \u001b[49m\u001b[43mwspace\u001b[49m\u001b[38;5;241;43m=\u001b[39;49m\u001b[43mwspace\u001b[49m\u001b[43m)\u001b[49m\n\u001b[1;32m    111\u001b[0m     _make_margin_suptitles(fig, renderer, h_pad\u001b[38;5;241m=\u001b[39mh_pad, w_pad\u001b[38;5;241m=\u001b[39mw_pad)\n\u001b[1;32m    113\u001b[0m     \u001b[38;5;66;03m# if a layout is such that a columns (or rows) margin has no\u001b[39;00m\n\u001b[1;32m    114\u001b[0m     \u001b[38;5;66;03m# constraints, we need to make all such instances in the grid\u001b[39;00m\n\u001b[1;32m    115\u001b[0m     \u001b[38;5;66;03m# match in margin size.\u001b[39;00m\n",
      "File \u001b[0;32m~/miniconda3/envs/research_project/lib/python3.9/site-packages/matplotlib/_constrained_layout.py:224\u001b[0m, in \u001b[0;36m_make_layout_margins\u001b[0;34m(fig, renderer, w_pad, h_pad, hspace, wspace)\u001b[0m\n\u001b[1;32m    221\u001b[0m margin \u001b[38;5;241m=\u001b[39m _get_margin_from_padding(ax, w_pad\u001b[38;5;241m=\u001b[39mw_pad, h_pad\u001b[38;5;241m=\u001b[39mh_pad,\n\u001b[1;32m    222\u001b[0m                                    hspace\u001b[38;5;241m=\u001b[39mhspace, wspace\u001b[38;5;241m=\u001b[39mwspace)\n\u001b[1;32m    223\u001b[0m margin0 \u001b[38;5;241m=\u001b[39m margin\u001b[38;5;241m.\u001b[39mcopy()\n\u001b[0;32m--> 224\u001b[0m pos, bbox \u001b[38;5;241m=\u001b[39m \u001b[43m_get_pos_and_bbox\u001b[49m\u001b[43m(\u001b[49m\u001b[43max\u001b[49m\u001b[43m,\u001b[49m\u001b[43m \u001b[49m\u001b[43mrenderer\u001b[49m\u001b[43m)\u001b[49m\n\u001b[1;32m    225\u001b[0m \u001b[38;5;66;03m# the margin is the distance between the bounding box of the axes\u001b[39;00m\n\u001b[1;32m    226\u001b[0m \u001b[38;5;66;03m# and its position (plus the padding from above)\u001b[39;00m\n\u001b[1;32m    227\u001b[0m margin[\u001b[38;5;124m'\u001b[39m\u001b[38;5;124mleft\u001b[39m\u001b[38;5;124m'\u001b[39m] \u001b[38;5;241m+\u001b[39m\u001b[38;5;241m=\u001b[39m pos\u001b[38;5;241m.\u001b[39mx0 \u001b[38;5;241m-\u001b[39m bbox\u001b[38;5;241m.\u001b[39mx0\n",
      "File \u001b[0;32m~/miniconda3/envs/research_project/lib/python3.9/site-packages/matplotlib/_constrained_layout.py:453\u001b[0m, in \u001b[0;36m_get_pos_and_bbox\u001b[0;34m(ax, renderer)\u001b[0m\n\u001b[1;32m    451\u001b[0m pos \u001b[38;5;241m=\u001b[39m pos\u001b[38;5;241m.\u001b[39mtransformed(fig\u001b[38;5;241m.\u001b[39mtransSubfigure \u001b[38;5;241m-\u001b[39m fig\u001b[38;5;241m.\u001b[39mtransFigure)\n\u001b[1;32m    452\u001b[0m \u001b[38;5;28;01mtry\u001b[39;00m:\n\u001b[0;32m--> 453\u001b[0m     tightbbox \u001b[38;5;241m=\u001b[39m \u001b[43max\u001b[49m\u001b[38;5;241;43m.\u001b[39;49m\u001b[43mget_tightbbox\u001b[49m\u001b[43m(\u001b[49m\u001b[43mrenderer\u001b[49m\u001b[38;5;241;43m=\u001b[39;49m\u001b[43mrenderer\u001b[49m\u001b[43m,\u001b[49m\u001b[43m \u001b[49m\u001b[43mfor_layout_only\u001b[49m\u001b[38;5;241;43m=\u001b[39;49m\u001b[38;5;28;43;01mTrue\u001b[39;49;00m\u001b[43m)\u001b[49m\n\u001b[1;32m    454\u001b[0m \u001b[38;5;28;01mexcept\u001b[39;00m \u001b[38;5;167;01mTypeError\u001b[39;00m:\n\u001b[1;32m    455\u001b[0m     tightbbox \u001b[38;5;241m=\u001b[39m ax\u001b[38;5;241m.\u001b[39mget_tightbbox(renderer\u001b[38;5;241m=\u001b[39mrenderer)\n",
      "File \u001b[0;32m~/miniconda3/envs/research_project/lib/python3.9/site-packages/matplotlib/axes/_base.py:4430\u001b[0m, in \u001b[0;36m_AxesBase.get_tightbbox\u001b[0;34m(self, renderer, call_axes_locator, bbox_extra_artists, for_layout_only)\u001b[0m\n\u001b[1;32m   4428\u001b[0m \u001b[38;5;28;01mif\u001b[39;00m \u001b[38;5;28mself\u001b[39m\u001b[38;5;241m.\u001b[39mxaxis\u001b[38;5;241m.\u001b[39mget_visible():\n\u001b[1;32m   4429\u001b[0m     \u001b[38;5;28;01mtry\u001b[39;00m:\n\u001b[0;32m-> 4430\u001b[0m         bb_xaxis \u001b[38;5;241m=\u001b[39m \u001b[38;5;28;43mself\u001b[39;49m\u001b[38;5;241;43m.\u001b[39;49m\u001b[43mxaxis\u001b[49m\u001b[38;5;241;43m.\u001b[39;49m\u001b[43mget_tightbbox\u001b[49m\u001b[43m(\u001b[49m\n\u001b[1;32m   4431\u001b[0m \u001b[43m            \u001b[49m\u001b[43mrenderer\u001b[49m\u001b[43m,\u001b[49m\u001b[43m \u001b[49m\u001b[43mfor_layout_only\u001b[49m\u001b[38;5;241;43m=\u001b[39;49m\u001b[43mfor_layout_only\u001b[49m\u001b[43m)\u001b[49m\n\u001b[1;32m   4432\u001b[0m     \u001b[38;5;28;01mexcept\u001b[39;00m \u001b[38;5;167;01mTypeError\u001b[39;00m:\n\u001b[1;32m   4433\u001b[0m         \u001b[38;5;66;03m# in case downstream library has redefined axis:\u001b[39;00m\n\u001b[1;32m   4434\u001b[0m         bb_xaxis \u001b[38;5;241m=\u001b[39m \u001b[38;5;28mself\u001b[39m\u001b[38;5;241m.\u001b[39mxaxis\u001b[38;5;241m.\u001b[39mget_tightbbox(renderer)\n",
      "File \u001b[0;32m~/miniconda3/envs/research_project/lib/python3.9/site-packages/matplotlib/axis.py:1088\u001b[0m, in \u001b[0;36mAxis.get_tightbbox\u001b[0;34m(self, renderer, for_layout_only)\u001b[0m\n\u001b[1;32m   1084\u001b[0m     \u001b[38;5;28;01mreturn\u001b[39;00m\n\u001b[1;32m   1086\u001b[0m ticks_to_draw \u001b[38;5;241m=\u001b[39m \u001b[38;5;28mself\u001b[39m\u001b[38;5;241m.\u001b[39m_update_ticks()\n\u001b[0;32m-> 1088\u001b[0m \u001b[38;5;28;43mself\u001b[39;49m\u001b[38;5;241;43m.\u001b[39;49m\u001b[43m_update_label_position\u001b[49m\u001b[43m(\u001b[49m\u001b[43mrenderer\u001b[49m\u001b[43m)\u001b[49m\n\u001b[1;32m   1090\u001b[0m \u001b[38;5;66;03m# go back to just this axis's tick labels\u001b[39;00m\n\u001b[1;32m   1091\u001b[0m ticklabelBoxes, ticklabelBoxes2 \u001b[38;5;241m=\u001b[39m \u001b[38;5;28mself\u001b[39m\u001b[38;5;241m.\u001b[39m_get_tick_bboxes(\n\u001b[1;32m   1092\u001b[0m             ticks_to_draw, renderer)\n",
      "File \u001b[0;32m~/miniconda3/envs/research_project/lib/python3.9/site-packages/matplotlib/axis.py:2085\u001b[0m, in \u001b[0;36mXAxis._update_label_position\u001b[0;34m(self, renderer)\u001b[0m\n\u001b[1;32m   2081\u001b[0m     \u001b[38;5;28;01mreturn\u001b[39;00m\n\u001b[1;32m   2083\u001b[0m \u001b[38;5;66;03m# get bounding boxes for this axis and any siblings\u001b[39;00m\n\u001b[1;32m   2084\u001b[0m \u001b[38;5;66;03m# that have been set by `fig.align_xlabels()`\u001b[39;00m\n\u001b[0;32m-> 2085\u001b[0m bboxes, bboxes2 \u001b[38;5;241m=\u001b[39m \u001b[38;5;28;43mself\u001b[39;49m\u001b[38;5;241;43m.\u001b[39;49m\u001b[43m_get_tick_boxes_siblings\u001b[49m\u001b[43m(\u001b[49m\u001b[43mrenderer\u001b[49m\u001b[38;5;241;43m=\u001b[39;49m\u001b[43mrenderer\u001b[49m\u001b[43m)\u001b[49m\n\u001b[1;32m   2087\u001b[0m x, y \u001b[38;5;241m=\u001b[39m \u001b[38;5;28mself\u001b[39m\u001b[38;5;241m.\u001b[39mlabel\u001b[38;5;241m.\u001b[39mget_position()\n\u001b[1;32m   2088\u001b[0m \u001b[38;5;28;01mif\u001b[39;00m \u001b[38;5;28mself\u001b[39m\u001b[38;5;241m.\u001b[39mlabel_position \u001b[38;5;241m==\u001b[39m \u001b[38;5;124m'\u001b[39m\u001b[38;5;124mbottom\u001b[39m\u001b[38;5;124m'\u001b[39m:\n",
      "File \u001b[0;32m~/miniconda3/envs/research_project/lib/python3.9/site-packages/matplotlib/axis.py:1873\u001b[0m, in \u001b[0;36mAxis._get_tick_boxes_siblings\u001b[0;34m(self, renderer)\u001b[0m\n\u001b[1;32m   1871\u001b[0m axis \u001b[38;5;241m=\u001b[39m ax\u001b[38;5;241m.\u001b[39m_get_axis_map()[axis_name]\n\u001b[1;32m   1872\u001b[0m ticks_to_draw \u001b[38;5;241m=\u001b[39m axis\u001b[38;5;241m.\u001b[39m_update_ticks()\n\u001b[0;32m-> 1873\u001b[0m tlb, tlb2 \u001b[38;5;241m=\u001b[39m \u001b[43maxis\u001b[49m\u001b[38;5;241;43m.\u001b[39;49m\u001b[43m_get_tick_bboxes\u001b[49m\u001b[43m(\u001b[49m\u001b[43mticks_to_draw\u001b[49m\u001b[43m,\u001b[49m\u001b[43m \u001b[49m\u001b[43mrenderer\u001b[49m\u001b[43m)\u001b[49m\n\u001b[1;32m   1874\u001b[0m bboxes\u001b[38;5;241m.\u001b[39mextend(tlb)\n\u001b[1;32m   1875\u001b[0m bboxes2\u001b[38;5;241m.\u001b[39mextend(tlb2)\n",
      "File \u001b[0;32m~/miniconda3/envs/research_project/lib/python3.9/site-packages/matplotlib/axis.py:1068\u001b[0m, in \u001b[0;36mAxis._get_tick_bboxes\u001b[0;34m(self, ticks, renderer)\u001b[0m\n\u001b[1;32m   1066\u001b[0m \u001b[38;5;28;01mdef\u001b[39;00m \u001b[38;5;21m_get_tick_bboxes\u001b[39m(\u001b[38;5;28mself\u001b[39m, ticks, renderer):\n\u001b[1;32m   1067\u001b[0m     \u001b[38;5;124;03m\"\"\"Return lists of bboxes for ticks' label1's and label2's.\"\"\"\u001b[39;00m\n\u001b[0;32m-> 1068\u001b[0m     \u001b[38;5;28;01mreturn\u001b[39;00m ([tick\u001b[38;5;241m.\u001b[39mlabel1\u001b[38;5;241m.\u001b[39mget_window_extent(renderer)\n\u001b[1;32m   1069\u001b[0m              \u001b[38;5;28;01mfor\u001b[39;00m tick \u001b[38;5;129;01min\u001b[39;00m ticks \u001b[38;5;28;01mif\u001b[39;00m tick\u001b[38;5;241m.\u001b[39mlabel1\u001b[38;5;241m.\u001b[39mget_visible()],\n\u001b[1;32m   1070\u001b[0m             [tick\u001b[38;5;241m.\u001b[39mlabel2\u001b[38;5;241m.\u001b[39mget_window_extent(renderer)\n\u001b[1;32m   1071\u001b[0m              \u001b[38;5;28;01mfor\u001b[39;00m tick \u001b[38;5;129;01min\u001b[39;00m ticks \u001b[38;5;28;01mif\u001b[39;00m tick\u001b[38;5;241m.\u001b[39mlabel2\u001b[38;5;241m.\u001b[39mget_visible()])\n",
      "File \u001b[0;32m~/miniconda3/envs/research_project/lib/python3.9/site-packages/matplotlib/axis.py:1068\u001b[0m, in \u001b[0;36m<listcomp>\u001b[0;34m(.0)\u001b[0m\n\u001b[1;32m   1066\u001b[0m \u001b[38;5;28;01mdef\u001b[39;00m \u001b[38;5;21m_get_tick_bboxes\u001b[39m(\u001b[38;5;28mself\u001b[39m, ticks, renderer):\n\u001b[1;32m   1067\u001b[0m     \u001b[38;5;124;03m\"\"\"Return lists of bboxes for ticks' label1's and label2's.\"\"\"\u001b[39;00m\n\u001b[0;32m-> 1068\u001b[0m     \u001b[38;5;28;01mreturn\u001b[39;00m ([\u001b[43mtick\u001b[49m\u001b[38;5;241;43m.\u001b[39;49m\u001b[43mlabel1\u001b[49m\u001b[38;5;241;43m.\u001b[39;49m\u001b[43mget_window_extent\u001b[49m\u001b[43m(\u001b[49m\u001b[43mrenderer\u001b[49m\u001b[43m)\u001b[49m\n\u001b[1;32m   1069\u001b[0m              \u001b[38;5;28;01mfor\u001b[39;00m tick \u001b[38;5;129;01min\u001b[39;00m ticks \u001b[38;5;28;01mif\u001b[39;00m tick\u001b[38;5;241m.\u001b[39mlabel1\u001b[38;5;241m.\u001b[39mget_visible()],\n\u001b[1;32m   1070\u001b[0m             [tick\u001b[38;5;241m.\u001b[39mlabel2\u001b[38;5;241m.\u001b[39mget_window_extent(renderer)\n\u001b[1;32m   1071\u001b[0m              \u001b[38;5;28;01mfor\u001b[39;00m tick \u001b[38;5;129;01min\u001b[39;00m ticks \u001b[38;5;28;01mif\u001b[39;00m tick\u001b[38;5;241m.\u001b[39mlabel2\u001b[38;5;241m.\u001b[39mget_visible()])\n",
      "File \u001b[0;32m~/miniconda3/envs/research_project/lib/python3.9/site-packages/matplotlib/text.py:903\u001b[0m, in \u001b[0;36mText.get_window_extent\u001b[0;34m(self, renderer, dpi)\u001b[0m\n\u001b[1;32m    900\u001b[0m     \u001b[38;5;28;01mraise\u001b[39;00m \u001b[38;5;167;01mRuntimeError\u001b[39;00m(\u001b[38;5;124m'\u001b[39m\u001b[38;5;124mCannot get window extent w/o renderer\u001b[39m\u001b[38;5;124m'\u001b[39m)\n\u001b[1;32m    902\u001b[0m \u001b[38;5;28;01mwith\u001b[39;00m cbook\u001b[38;5;241m.\u001b[39m_setattr_cm(\u001b[38;5;28mself\u001b[39m\u001b[38;5;241m.\u001b[39mfigure, dpi\u001b[38;5;241m=\u001b[39mdpi):\n\u001b[0;32m--> 903\u001b[0m     bbox, info, descent \u001b[38;5;241m=\u001b[39m \u001b[38;5;28;43mself\u001b[39;49m\u001b[38;5;241;43m.\u001b[39;49m\u001b[43m_get_layout\u001b[49m\u001b[43m(\u001b[49m\u001b[38;5;28;43mself\u001b[39;49m\u001b[38;5;241;43m.\u001b[39;49m\u001b[43m_renderer\u001b[49m\u001b[43m)\u001b[49m\n\u001b[1;32m    904\u001b[0m     x, y \u001b[38;5;241m=\u001b[39m \u001b[38;5;28mself\u001b[39m\u001b[38;5;241m.\u001b[39mget_unitless_position()\n\u001b[1;32m    905\u001b[0m     x, y \u001b[38;5;241m=\u001b[39m \u001b[38;5;28mself\u001b[39m\u001b[38;5;241m.\u001b[39mget_transform()\u001b[38;5;241m.\u001b[39mtransform((x, y))\n",
      "File \u001b[0;32m~/miniconda3/envs/research_project/lib/python3.9/site-packages/matplotlib/text.py:306\u001b[0m, in \u001b[0;36mText._get_layout\u001b[0;34m(self, renderer)\u001b[0m\n\u001b[1;32m    303\u001b[0m ys \u001b[38;5;241m=\u001b[39m []\n\u001b[1;32m    305\u001b[0m \u001b[38;5;66;03m# Full vertical extent of font, including ascenders and descenders:\u001b[39;00m\n\u001b[0;32m--> 306\u001b[0m _, lp_h, lp_d \u001b[38;5;241m=\u001b[39m \u001b[43mrenderer\u001b[49m\u001b[38;5;241;43m.\u001b[39;49m\u001b[43mget_text_width_height_descent\u001b[49m\u001b[43m(\u001b[49m\n\u001b[1;32m    307\u001b[0m \u001b[43m    \u001b[49m\u001b[38;5;124;43m\"\u001b[39;49m\u001b[38;5;124;43mlp\u001b[39;49m\u001b[38;5;124;43m\"\u001b[39;49m\u001b[43m,\u001b[49m\u001b[43m \u001b[49m\u001b[38;5;28;43mself\u001b[39;49m\u001b[38;5;241;43m.\u001b[39;49m\u001b[43m_fontproperties\u001b[49m\u001b[43m,\u001b[49m\n\u001b[1;32m    308\u001b[0m \u001b[43m    \u001b[49m\u001b[43mismath\u001b[49m\u001b[38;5;241;43m=\u001b[39;49m\u001b[38;5;124;43m\"\u001b[39;49m\u001b[38;5;124;43mTeX\u001b[39;49m\u001b[38;5;124;43m\"\u001b[39;49m\u001b[43m \u001b[49m\u001b[38;5;28;43;01mif\u001b[39;49;00m\u001b[43m \u001b[49m\u001b[38;5;28;43mself\u001b[39;49m\u001b[38;5;241;43m.\u001b[39;49m\u001b[43mget_usetex\u001b[49m\u001b[43m(\u001b[49m\u001b[43m)\u001b[49m\u001b[43m \u001b[49m\u001b[38;5;28;43;01melse\u001b[39;49;00m\u001b[43m \u001b[49m\u001b[38;5;28;43;01mFalse\u001b[39;49;00m\u001b[43m)\u001b[49m\n\u001b[1;32m    309\u001b[0m min_dy \u001b[38;5;241m=\u001b[39m (lp_h \u001b[38;5;241m-\u001b[39m lp_d) \u001b[38;5;241m*\u001b[39m \u001b[38;5;28mself\u001b[39m\u001b[38;5;241m.\u001b[39m_linespacing\n\u001b[1;32m    311\u001b[0m \u001b[38;5;28;01mfor\u001b[39;00m i, line \u001b[38;5;129;01min\u001b[39;00m \u001b[38;5;28menumerate\u001b[39m(lines):\n",
      "File \u001b[0;32m~/miniconda3/envs/research_project/lib/python3.9/site-packages/matplotlib/backends/backend_agg.py:229\u001b[0m, in \u001b[0;36mRendererAgg.get_text_width_height_descent\u001b[0;34m(self, s, prop, ismath)\u001b[0m\n\u001b[1;32m    227\u001b[0m     texmanager \u001b[38;5;241m=\u001b[39m \u001b[38;5;28mself\u001b[39m\u001b[38;5;241m.\u001b[39mget_texmanager()\n\u001b[1;32m    228\u001b[0m     fontsize \u001b[38;5;241m=\u001b[39m prop\u001b[38;5;241m.\u001b[39mget_size_in_points()\n\u001b[0;32m--> 229\u001b[0m     w, h, d \u001b[38;5;241m=\u001b[39m \u001b[43mtexmanager\u001b[49m\u001b[38;5;241;43m.\u001b[39;49m\u001b[43mget_text_width_height_descent\u001b[49m\u001b[43m(\u001b[49m\n\u001b[1;32m    230\u001b[0m \u001b[43m        \u001b[49m\u001b[43ms\u001b[49m\u001b[43m,\u001b[49m\u001b[43m \u001b[49m\u001b[43mfontsize\u001b[49m\u001b[43m,\u001b[49m\u001b[43m \u001b[49m\u001b[43mrenderer\u001b[49m\u001b[38;5;241;43m=\u001b[39;49m\u001b[38;5;28;43mself\u001b[39;49m\u001b[43m)\u001b[49m\n\u001b[1;32m    231\u001b[0m     \u001b[38;5;28;01mreturn\u001b[39;00m w, h, d\n\u001b[1;32m    233\u001b[0m \u001b[38;5;28;01mif\u001b[39;00m ismath:\n",
      "File \u001b[0;32m~/miniconda3/envs/research_project/lib/python3.9/site-packages/matplotlib/texmanager.py:399\u001b[0m, in \u001b[0;36mTexManager.get_text_width_height_descent\u001b[0;34m(self, tex, fontsize, renderer)\u001b[0m\n\u001b[1;32m    395\u001b[0m     \u001b[38;5;28;01mreturn\u001b[39;00m width, height \u001b[38;5;241m+\u001b[39m depth, depth\n\u001b[1;32m    397\u001b[0m \u001b[38;5;28;01melse\u001b[39;00m:\n\u001b[1;32m    398\u001b[0m     \u001b[38;5;66;03m# use dviread.\u001b[39;00m\n\u001b[0;32m--> 399\u001b[0m     dvifile \u001b[38;5;241m=\u001b[39m \u001b[38;5;28;43mself\u001b[39;49m\u001b[38;5;241;43m.\u001b[39;49m\u001b[43mmake_dvi\u001b[49m\u001b[43m(\u001b[49m\u001b[43mtex\u001b[49m\u001b[43m,\u001b[49m\u001b[43m \u001b[49m\u001b[43mfontsize\u001b[49m\u001b[43m)\u001b[49m\n\u001b[1;32m    400\u001b[0m     \u001b[38;5;28;01mwith\u001b[39;00m dviread\u001b[38;5;241m.\u001b[39mDvi(dvifile, \u001b[38;5;241m72\u001b[39m \u001b[38;5;241m*\u001b[39m dpi_fraction) \u001b[38;5;28;01mas\u001b[39;00m dvi:\n\u001b[1;32m    401\u001b[0m         page, \u001b[38;5;241m=\u001b[39m dvi\n",
      "File \u001b[0;32m~/miniconda3/envs/research_project/lib/python3.9/site-packages/matplotlib/texmanager.py:291\u001b[0m, in \u001b[0;36mTexManager.make_dvi\u001b[0;34m(self, tex, fontsize)\u001b[0m\n\u001b[1;32m    285\u001b[0m     \u001b[38;5;66;03m# Generate the dvi in a temporary directory to avoid race\u001b[39;00m\n\u001b[1;32m    286\u001b[0m     \u001b[38;5;66;03m# conditions e.g. if multiple processes try to process the same tex\u001b[39;00m\n\u001b[1;32m    287\u001b[0m     \u001b[38;5;66;03m# string at the same time.  Having tmpdir be a subdirectory of the\u001b[39;00m\n\u001b[1;32m    288\u001b[0m     \u001b[38;5;66;03m# final output dir ensures that they are on the same filesystem,\u001b[39;00m\n\u001b[1;32m    289\u001b[0m     \u001b[38;5;66;03m# and thus replace() works atomically.\u001b[39;00m\n\u001b[1;32m    290\u001b[0m     \u001b[38;5;28;01mwith\u001b[39;00m TemporaryDirectory(\u001b[38;5;28mdir\u001b[39m\u001b[38;5;241m=\u001b[39mPath(dvifile)\u001b[38;5;241m.\u001b[39mparent) \u001b[38;5;28;01mas\u001b[39;00m tmpdir:\n\u001b[0;32m--> 291\u001b[0m         \u001b[38;5;28;43mself\u001b[39;49m\u001b[38;5;241;43m.\u001b[39;49m\u001b[43m_run_checked_subprocess\u001b[49m\u001b[43m(\u001b[49m\n\u001b[1;32m    292\u001b[0m \u001b[43m            \u001b[49m\u001b[43m[\u001b[49m\u001b[38;5;124;43m\"\u001b[39;49m\u001b[38;5;124;43mlatex\u001b[39;49m\u001b[38;5;124;43m\"\u001b[39;49m\u001b[43m,\u001b[49m\u001b[43m \u001b[49m\u001b[38;5;124;43m\"\u001b[39;49m\u001b[38;5;124;43m-interaction=nonstopmode\u001b[39;49m\u001b[38;5;124;43m\"\u001b[39;49m\u001b[43m,\u001b[49m\u001b[43m \u001b[49m\u001b[38;5;124;43m\"\u001b[39;49m\u001b[38;5;124;43m--halt-on-error\u001b[39;49m\u001b[38;5;124;43m\"\u001b[39;49m\u001b[43m,\u001b[49m\n\u001b[1;32m    293\u001b[0m \u001b[43m             \u001b[49m\u001b[43mtexfile\u001b[49m\u001b[43m]\u001b[49m\u001b[43m,\u001b[49m\u001b[43m \u001b[49m\u001b[43mtex\u001b[49m\u001b[43m,\u001b[49m\u001b[43m \u001b[49m\u001b[43mcwd\u001b[49m\u001b[38;5;241;43m=\u001b[39;49m\u001b[43mtmpdir\u001b[49m\u001b[43m)\u001b[49m\n\u001b[1;32m    294\u001b[0m         (Path(tmpdir) \u001b[38;5;241m/\u001b[39m Path(dvifile)\u001b[38;5;241m.\u001b[39mname)\u001b[38;5;241m.\u001b[39mreplace(dvifile)\n\u001b[1;32m    295\u001b[0m \u001b[38;5;28;01mreturn\u001b[39;00m dvifile\n",
      "File \u001b[0;32m~/miniconda3/envs/research_project/lib/python3.9/site-packages/matplotlib/texmanager.py:256\u001b[0m, in \u001b[0;36mTexManager._run_checked_subprocess\u001b[0;34m(self, command, tex, cwd)\u001b[0m\n\u001b[1;32m    252\u001b[0m     report \u001b[38;5;241m=\u001b[39m subprocess\u001b[38;5;241m.\u001b[39mcheck_output(\n\u001b[1;32m    253\u001b[0m         command, cwd\u001b[38;5;241m=\u001b[39mcwd \u001b[38;5;28;01mif\u001b[39;00m cwd \u001b[38;5;129;01mis\u001b[39;00m \u001b[38;5;129;01mnot\u001b[39;00m \u001b[38;5;28;01mNone\u001b[39;00m \u001b[38;5;28;01melse\u001b[39;00m \u001b[38;5;28mself\u001b[39m\u001b[38;5;241m.\u001b[39mtexcache,\n\u001b[1;32m    254\u001b[0m         stderr\u001b[38;5;241m=\u001b[39msubprocess\u001b[38;5;241m.\u001b[39mSTDOUT)\n\u001b[1;32m    255\u001b[0m \u001b[38;5;28;01mexcept\u001b[39;00m \u001b[38;5;167;01mFileNotFoundError\u001b[39;00m \u001b[38;5;28;01mas\u001b[39;00m exc:\n\u001b[0;32m--> 256\u001b[0m     \u001b[38;5;28;01mraise\u001b[39;00m \u001b[38;5;167;01mRuntimeError\u001b[39;00m(\n\u001b[1;32m    257\u001b[0m         \u001b[38;5;124m'\u001b[39m\u001b[38;5;124mFailed to process string with tex because \u001b[39m\u001b[38;5;132;01m{}\u001b[39;00m\u001b[38;5;124m could not be \u001b[39m\u001b[38;5;124m'\u001b[39m\n\u001b[1;32m    258\u001b[0m         \u001b[38;5;124m'\u001b[39m\u001b[38;5;124mfound\u001b[39m\u001b[38;5;124m'\u001b[39m\u001b[38;5;241m.\u001b[39mformat(command[\u001b[38;5;241m0\u001b[39m])) \u001b[38;5;28;01mfrom\u001b[39;00m \u001b[38;5;21;01mexc\u001b[39;00m\n\u001b[1;32m    259\u001b[0m \u001b[38;5;28;01mexcept\u001b[39;00m subprocess\u001b[38;5;241m.\u001b[39mCalledProcessError \u001b[38;5;28;01mas\u001b[39;00m exc:\n\u001b[1;32m    260\u001b[0m     \u001b[38;5;28;01mraise\u001b[39;00m \u001b[38;5;167;01mRuntimeError\u001b[39;00m(\n\u001b[1;32m    261\u001b[0m         \u001b[38;5;124m'\u001b[39m\u001b[38;5;132;01m{prog}\u001b[39;00m\u001b[38;5;124m was not able to process the following string:\u001b[39m\u001b[38;5;130;01m\\n\u001b[39;00m\u001b[38;5;124m'\u001b[39m\n\u001b[1;32m    262\u001b[0m         \u001b[38;5;124m'\u001b[39m\u001b[38;5;132;01m{tex!r}\u001b[39;00m\u001b[38;5;130;01m\\n\u001b[39;00m\u001b[38;5;130;01m\\n\u001b[39;00m\u001b[38;5;124m'\u001b[39m\n\u001b[0;32m   (...)\u001b[0m\n\u001b[1;32m    266\u001b[0m             tex\u001b[38;5;241m=\u001b[39mtex\u001b[38;5;241m.\u001b[39mencode(\u001b[38;5;124m'\u001b[39m\u001b[38;5;124municode_escape\u001b[39m\u001b[38;5;124m'\u001b[39m),\n\u001b[1;32m    267\u001b[0m             exc\u001b[38;5;241m=\u001b[39mexc\u001b[38;5;241m.\u001b[39moutput\u001b[38;5;241m.\u001b[39mdecode(\u001b[38;5;124m'\u001b[39m\u001b[38;5;124mutf-8\u001b[39m\u001b[38;5;124m'\u001b[39m))) \u001b[38;5;28;01mfrom\u001b[39;00m \u001b[38;5;21;01mexc\u001b[39;00m\n",
      "\u001b[0;31mRuntimeError\u001b[0m: Failed to process string with tex because latex could not be found"
     ]
    },
    {
     "data": {
      "text/plain": [
       "<Figure size 1100x679.837 with 1 Axes>"
      ]
     },
     "metadata": {
      "needs_background": "light"
     },
     "output_type": "display_data"
    }
   ],
   "source": [
    "relevant_points = [\n",
    "    # (name, sub_x_translation, sub_y_translation, overlap_x_translation, overlap_y_translation)\n",
    "    ('bert_EDBXE_STOB_lexicalDeBias_linear_cka_9M-10M-11M_9-10-11_lambda_1_100_64_sim',-6, 0, 0.5, 0),\n",
    "    ('bert_EDBXE_STOB_lexicalDeBias_cos_cor_eM-0M-6M-10M-11M_e-0-6-10-11_lambda_1_10_64_sim_GReg',0.5, -0.05, -1.7, -0.4),\n",
    "    ('bert_LexicalModel_STOB_lexicalDeBias_abs_cos_cor_eM_2_lambda_1_10_64_GReg',0.5, 0, 0, 0.1),\n",
    "    # ('bert_LexicalModel_STOB_lexicalDeBias_abs_cos_cor_eM-0M-6M-11M_2-2-2-2-2_lambda_1_10_64',0, 0, 0, 0),\n",
    "    ('bert_UB2_STOB_lexicalDeBias_abs_cos_cor_eM-0M-6M-11M_e-0-6-10-11_lambda_1_10_64',-0.6, -0.25, -1.5, 0.1),\n",
    "    ('bert_LexicalModel_lexicalDeBias_POE_64',-1.5, -0.3, -1.3, -0.3),\n",
    "    ('conf_reg',-6, 0, -5.5, 0),\n",
    "    ('bert_64_base', 0.7, 0.05, 1, 0.1)\n",
    "]\n",
    "def plot_points(relevant_points):\n",
    "    labels = [\n",
    "        \"$SimReg\\\\uparrow $\",\n",
    "        '$\\\\nabla SimReg\\\\uparrow$',\n",
    "        '$\\\\nabla SimReg\\\\downarrow$',\n",
    "        '$SimReg\\\\downarrow$',\n",
    "        # 'UB $\\\\downarrow$',\n",
    "        '$POE$',\n",
    "        '$ConfReg$',\n",
    "        '$baseline$'\n",
    "    ]\n",
    "    # sns.set_style('darkgrid')\n",
    "    # sns.set_context('paper')\n",
    "\n",
    "\n",
    "    from tueplots import axes, bundles\n",
    "    plt.clf()\n",
    "    with plt.rc_context(bundles.iclr2023()):\n",
    "        plt.rcParams.update({\n",
    "            'figure.dpi': 200,\n",
    "            'font.size': 12,\n",
    "            'axes.titlesize': 16,\n",
    "            'legend.fontsize': 14,\n",
    "            'axes.labelsize': 14,\n",
    "            'xtick.labelsize': 10,\n",
    "            'ytick.labelsize': 10,\n",
    "        })\n",
    "        fig, ax = plt.subplots()\n",
    "        # sub_mean, sub_compression_mean, sub_compression_std, lex_compression_mean, lex_compression_std, lex_mean\n",
    "        compression_hist['conf_reg'] = (60.89, 5.81, 0.5608, 6.298, 0.7, 6.6, 0)\n",
    "        compression_axs = 3\n",
    "\n",
    "        baseline_compression = compression_hist['bert_64_base'][compression_axs]\n",
    "        robustnesses = {\n",
    "            1: [],\n",
    "            3: []\n",
    "        }\n",
    "        compression_means = []\n",
    "        compression_std = []\n",
    "        for point in relevant_points:\n",
    "            k = point[0]\n",
    "            current_run = compression_hist[k]\n",
    "            \n",
    "            robustnesses[1].append(current_run[0] - compression_hist['bert_64_base'][0])\n",
    "            robustnesses[3].append(current_run[-1] - compression_hist['bert_64_base'][-1])\n",
    "            \n",
    "            compression_means.append(current_run[compression_axs] - baseline_compression)\n",
    "            compression_std.append(current_run[4])\n",
    "\n",
    "        ax.errorbar(robustnesses[compression_axs][:-1], compression_means[:-1], yerr=compression_std[:-1], fmt=\"s\")\n",
    "        ax.errorbar(robustnesses[compression_axs][-1:],compression_means[-1:], yerr=compression_std[-1:], fmt=\"o\")\n",
    "        for i, point in enumerate(relevant_points):\n",
    "            k = point[0]\n",
    "            current_run =  compression_hist[k]\n",
    "            ax.annotate(labels[i], (robustnesses[compression_axs][i] + point[compression_axs], compression_means[i] + point[compression_axs + 1]))\n",
    "        ax.set_xlabel('$ \\\\Delta$ HANS')\n",
    "        ax.set_ylabel('$ \\\\Delta$ Compression')\n",
    "        bias_type = 'Overlap' if compression_axs == 3 else 'Subsequence'\n",
    "        ax.set_title(bias_type)\n",
    "        print(bias_type)\n",
    "        ax.grid()\n",
    "        plt.show()\n",
    "        # plt.savefig(f'{bias_type.lower()}_compression_analysis.pdf')\n",
    "\n",
    "plot_points(relevant_points)\n",
    "\n",
    "# for p in relevant_points:\n",
    "#     if p[0] in grouped_runs:\n",
    "#         for r in grouped_runs[p[0]]:\n",
    "#             print(f\"\"\"\n",
    "#                 sbatch --gres=gpu:1 -w plato1 ./hans_model.sh {r.config['output_dir']}\n",
    "#             \"\"\")"
   ]
  },
  {
   "cell_type": "code",
   "execution_count": null,
   "id": "605542a5-c94f-4757-8289-22e16eb91297",
   "metadata": {},
   "outputs": [],
   "source": [
    "total_runs = 0\n",
    "for k, v in grouped_runs.items():\n",
    "    # for r in v:\n",
    "    print(f\"{k}: {len(v)}\")\n",
    "    total_runs += len(v)"
   ]
  },
  {
   "cell_type": "code",
   "execution_count": 175,
   "id": "502ebae7-d7da-41ba-9023-eac9282d3ad6",
   "metadata": {},
   "outputs": [
    {
     "name": "stdout",
     "output_type": "stream",
     "text": [
      "13\n"
     ]
    }
   ],
   "source": [
    "dispatched_jobs = set()\n",
    "saved=0\n",
    "root_dir=\"/home/redaigbaria/research_project/examples/pytorch/text-classification\"\n",
    "for k in grouped_runs.keys():\n",
    "    # if len(grouped_runs[k]) == 1:\n",
    "    #     continue\n",
    "    if f\"mnli-lex-class-sub/{k}\" in probing_grouped_runs.keys():\n",
    "        continue\n",
    "    for run in grouped_runs[k]:\n",
    "        model_dir = os.path.join(root_dir, run.config['output_dir'])\n",
    "        dispatched_jobs.add(f\"nlp_sbatch plato1 probing.py --model_name_or_path {model_dir} --name {k} --task_config_file mnli_lex_class.json --seed 42\\n\")\n",
    "        # dispatched_jobs.add(f\"nlp_sbatch plato1 probing.py --model_name_or_path {model_dir} --name {k} --task_config_file mnli_lex_class_sub.json --seed 42\\n\")\n",
    "\n",
    "print(len(dispatched_jobs))\n"
   ]
  },
  {
   "cell_type": "code",
   "execution_count": null,
   "id": "83b36a44-0c03-4328-bbce-93083107d45c",
   "metadata": {},
   "outputs": [],
   "source": [
    "for j in dispatched_jobs:\n",
    "    print(j)"
   ]
  },
  {
   "cell_type": "code",
   "execution_count": null,
   "id": "4c41faae-faa8-42a3-b1ff-6d131c981bad",
   "metadata": {},
   "outputs": [],
   "source": [
    "hist = run.history()"
   ]
  },
  {
   "cell_type": "code",
   "execution_count": null,
   "id": "a4fce074-96e7-4474-9eda-b741040c025a",
   "metadata": {},
   "outputs": [],
   "source": [
    "plot_data = hist[['eval/HANS_non_ent_accuracy', 'train/global_step']].dropna()"
   ]
  },
  {
   "cell_type": "code",
   "execution_count": null,
   "id": "e924a2b7-3b3c-47c5-9eb4-675554f4bc04",
   "metadata": {},
   "outputs": [],
   "source": [
    "plt.plot(plot_data['train/global_step'], plot_data['eval/HANS_non_ent_accuracy'])"
   ]
  },
  {
   "cell_type": "code",
   "execution_count": null,
   "id": "e64e110d-ab73-4144-a1e2-829529c99000",
   "metadata": {},
   "outputs": [],
   "source": [
    "def prepare_row(runs, metric):\n",
    "    [r.summary()[metric]    for r in runs]"
   ]
  }
 ],
 "metadata": {
  "kernelspec": {
   "display_name": "Python 3 (ipykernel)",
   "language": "python",
   "name": "python3"
  },
  "language_info": {
   "codemirror_mode": {
    "name": "ipython",
    "version": 3
   },
   "file_extension": ".py",
   "mimetype": "text/x-python",
   "name": "python",
   "nbconvert_exporter": "python",
   "pygments_lexer": "ipython3",
   "version": "3.9.7"
  }
 },
 "nbformat": 4,
 "nbformat_minor": 5
}
